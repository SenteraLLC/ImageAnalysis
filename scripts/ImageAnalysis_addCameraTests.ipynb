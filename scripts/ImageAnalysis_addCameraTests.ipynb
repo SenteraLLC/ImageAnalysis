{
 "cells": [
  {
   "cell_type": "code",
   "execution_count": null,
   "id": "02495567",
   "metadata": {},
   "outputs": [],
   "source": [
    "import PIL"
   ]
  },
  {
   "cell_type": "code",
   "execution_count": null,
   "id": "14f7337b",
   "metadata": {},
   "outputs": [],
   "source": [
    "import argparse\n",
    "import cv2\n",
    "import fnmatch\n",
    "import os\n",
    "\n",
    "#this package caused me to have to download Microsoft C++ build tools. might be worth using a different package to avoid this\n",
    "#could replace with PIL \n",
    "#import pyexiv2                  # dnf install python3-exiv2 (py3exiv2)\n",
    "import sys\n",
    "\n",
    "from props import getNode       # from aura-props package\n",
    "import props_json               # from aura-props package\n",
    "\n",
    "from lib import camera\n",
    "from lib import project\n",
    "\n",
    "image_dir = \"D:\\customer projects\\StitchingData\\ErwinKeith\\Cunningham E3/08-31\\RGB\""
   ]
  },
  {
   "cell_type": "code",
   "execution_count": null,
   "id": "bbca20cc",
   "metadata": {},
   "outputs": [],
   "source": [
    "parser = argparse.ArgumentParser(description='New camera configuration.')\n",
    "parser.add_argument('project', help='project directory')\n",
    "parser.add_argument('--config', default='../cameras', help='camera config directory')\n",
    "parser.add_argument('--ccd-width', type=float)\n",
    "parser.add_argument('--force', action='store_true', help='force overwrite of an existing config file')\n",
    "\n",
    "args = parser.parse_args()\n",
    "\n",
    "# proj = project.ProjectMgr(args.project)\n",
    "\n",
    "# image_dir = args.project\n",
    "# image_file = None\n",
    "# for file in os.listdir(image_dir):\n",
    "#     if fnmatch.fnmatch(file, '*.jpg') or fnmatch.fnmatch(file, '*.JPG') or fnmatch.fnmatch(file, '*.tif') or fnmatch.fnmatch(file, '*.TIF'):\n",
    "#         image_file = os.path.join(image_dir, file)\n",
    "#         print(\"Found a suitable image:\", image_file)\n",
    "#         break\n",
    "# if not image_file:\n",
    "#     print(\"No suitable *.JPG or *.jpg file found in:\", image_dir)\n",
    "#     quit()\n",
    "\n",
    "# # auto detect camera from image meta data\n",
    "# camera_name, make, model, lens_model = proj.detect_camera()\n",
    "# camera_file = os.path.join(\"..\", \"cameras\", camera_name + \".json\")\n",
    "# print(\"Camera:\", camera_name, camera_file)"
   ]
  },
  {
   "cell_type": "code",
   "execution_count": null,
   "id": "04bef2e8",
   "metadata": {},
   "outputs": [],
   "source": []
  }
 ],
 "metadata": {
  "kernelspec": {
   "display_name": "Python 3 (ipykernel)",
   "language": "python",
   "name": "python3"
  },
  "language_info": {
   "codemirror_mode": {
    "name": "ipython",
    "version": 3
   },
   "file_extension": ".py",
   "mimetype": "text/x-python",
   "name": "python",
   "nbconvert_exporter": "python",
   "pygments_lexer": "ipython3",
   "version": "3.8.10"
  }
 },
 "nbformat": 4,
 "nbformat_minor": 5
}
